{
 "cells": [
  {
   "cell_type": "code",
   "execution_count": 1,
   "id": "fe35398b",
   "metadata": {},
   "outputs": [],
   "source": [
    "# imports\n",
    "import pandas as pd\n",
    "import numpy as np\n",
    "import matplotlib.pyplot as plt\n",
    "import seaborn as sns\n",
    "\n",
    "from sklearn.model_selection import cross_val_score, train_test_split, GridSearchCV\n",
    "from sklearn.feature_extraction.text import CountVectorizer\n",
    "from sklearn.pipeline import Pipeline\n",
    "from sklearn.naive_bayes import MultinomialNB\n",
    "from sklearn.linear_model import LogisticRegression\n",
    "from sklearn.metrics import confusion_matrix, plot_confusion_matrix\n",
    "from sklearn.ensemble import RandomForestClassifier\n",
    "from sklearn.metrics import f1_score, roc_auc_score, plot_roc_curve, recall_score\n",
    "\n",
    "\n",
    "from nltk.tokenize import RegexpTokenizer\n",
    "from nltk import WordNetLemmatizer\n",
    "\n",
    "# Do not display future warnings\n",
    "import warnings\n",
    "warnings.simplefilter(action='ignore')\n",
    "\n",
    "# Set max_columns display to 500\n",
    "pd.set_option('display.max_columns', 500)\n",
    "\n",
    "%matplotlib inline"
   ]
  },
  {
   "cell_type": "code",
   "execution_count": 2,
   "id": "f145ce80",
   "metadata": {},
   "outputs": [],
   "source": [
    "df = pd.read_csv('../data/final_table.csv')"
   ]
  },
  {
   "cell_type": "code",
   "execution_count": 3,
   "id": "055a7e58",
   "metadata": {},
   "outputs": [
    {
     "data": {
      "text/html": [
       "<div>\n",
       "<style scoped>\n",
       "    .dataframe tbody tr th:only-of-type {\n",
       "        vertical-align: middle;\n",
       "    }\n",
       "\n",
       "    .dataframe tbody tr th {\n",
       "        vertical-align: top;\n",
       "    }\n",
       "\n",
       "    .dataframe thead th {\n",
       "        text-align: right;\n",
       "    }\n",
       "</style>\n",
       "<table border=\"1\" class=\"dataframe\">\n",
       "  <thead>\n",
       "    <tr style=\"text-align: right;\">\n",
       "      <th></th>\n",
       "      <th>subreddit</th>\n",
       "      <th>message</th>\n",
       "      <th>message_lemma</th>\n",
       "      <th>avg_word_len</th>\n",
       "      <th>num_words</th>\n",
       "    </tr>\n",
       "  </thead>\n",
       "  <tbody>\n",
       "    <tr>\n",
       "      <th>0</th>\n",
       "      <td>1</td>\n",
       "      <td>los cabos real estate oceanside real estate ca...</td>\n",
       "      <td>los cabos real estate oceanside real estate ca...</td>\n",
       "      <td>1.0</td>\n",
       "      <td>51</td>\n",
       "    </tr>\n",
       "    <tr>\n",
       "      <th>1</th>\n",
       "      <td>1</td>\n",
       "      <td>caption contest cant wait see input</td>\n",
       "      <td>caption contest cant wait see input</td>\n",
       "      <td>1.0</td>\n",
       "      <td>35</td>\n",
       "    </tr>\n",
       "    <tr>\n",
       "      <th>2</th>\n",
       "      <td>1</td>\n",
       "      <td>modern light infantry operate hi modern light ...</td>\n",
       "      <td>modern light infantry operate hi modern light ...</td>\n",
       "      <td>1.0</td>\n",
       "      <td>68</td>\n",
       "    </tr>\n",
       "    <tr>\n",
       "      <th>3</th>\n",
       "      <td>1</td>\n",
       "      <td>history development weaponry gaza pij al quds ...</td>\n",
       "      <td>history development weaponry gaza pij al quds ...</td>\n",
       "      <td>1.0</td>\n",
       "      <td>75</td>\n",
       "    </tr>\n",
       "    <tr>\n",
       "      <th>4</th>\n",
       "      <td>1</td>\n",
       "      <td>outbreak ww freshly mobilized soldiers zagreb ...</td>\n",
       "      <td>outbreak ww freshly mobilized soldier zagreb c...</td>\n",
       "      <td>1.0</td>\n",
       "      <td>86</td>\n",
       "    </tr>\n",
       "  </tbody>\n",
       "</table>\n",
       "</div>"
      ],
      "text/plain": [
       "   subreddit                                            message  \\\n",
       "0          1  los cabos real estate oceanside real estate ca...   \n",
       "1          1                caption contest cant wait see input   \n",
       "2          1  modern light infantry operate hi modern light ...   \n",
       "3          1  history development weaponry gaza pij al quds ...   \n",
       "4          1  outbreak ww freshly mobilized soldiers zagreb ...   \n",
       "\n",
       "                                       message_lemma  avg_word_len  num_words  \n",
       "0  los cabos real estate oceanside real estate ca...           1.0         51  \n",
       "1                caption contest cant wait see input           1.0         35  \n",
       "2  modern light infantry operate hi modern light ...           1.0         68  \n",
       "3  history development weaponry gaza pij al quds ...           1.0         75  \n",
       "4  outbreak ww freshly mobilized soldier zagreb c...           1.0         86  "
      ]
     },
     "execution_count": 3,
     "metadata": {},
     "output_type": "execute_result"
    }
   ],
   "source": [
    "df.head()"
   ]
  },
  {
   "cell_type": "code",
   "execution_count": 4,
   "id": "7e1d661b",
   "metadata": {},
   "outputs": [],
   "source": [
    "df.drop(['message'], axis = 1, inplace = True)"
   ]
  },
  {
   "cell_type": "code",
   "execution_count": 5,
   "id": "c28338ad",
   "metadata": {},
   "outputs": [],
   "source": [
    "df['message_lemma'] = df['message_lemma'].values.astype('U')"
   ]
  },
  {
   "cell_type": "markdown",
   "id": "a7e4ac01",
   "metadata": {},
   "source": [
    "### Defining X and y"
   ]
  },
  {
   "cell_type": "code",
   "execution_count": 6,
   "id": "ff63b269",
   "metadata": {},
   "outputs": [],
   "source": [
    "X = df['message_lemma']\n",
    "y = df['subreddit']"
   ]
  },
  {
   "cell_type": "markdown",
   "id": "c4bf9ac7",
   "metadata": {},
   "source": [
    "### Let's look at the Baseline Score first"
   ]
  },
  {
   "cell_type": "code",
   "execution_count": 7,
   "id": "e80abc8f",
   "metadata": {},
   "outputs": [
    {
     "data": {
      "text/plain": [
       "0    0.5\n",
       "1    0.5\n",
       "Name: subreddit, dtype: float64"
      ]
     },
     "execution_count": 7,
     "metadata": {},
     "output_type": "execute_result"
    }
   ],
   "source": [
    "y.value_counts(normalize=True)"
   ]
  },
  {
   "cell_type": "markdown",
   "id": "5f3bf532",
   "metadata": {},
   "source": [
    "### Before we do the model, we will decide that the best model will be based on \n",
    " - Test Score\n",
    " - Recall Score"
   ]
  },
  {
   "cell_type": "markdown",
   "id": "afdef73a",
   "metadata": {},
   "source": [
    "### Train/ Test Split the data"
   ]
  },
  {
   "cell_type": "code",
   "execution_count": 8,
   "id": "29ef64af",
   "metadata": {},
   "outputs": [],
   "source": [
    "X_train, X_test, y_train, y_test = train_test_split(X, y, random_state=42, stratify=y)"
   ]
  },
  {
   "cell_type": "code",
   "execution_count": 9,
   "id": "9ca493ae",
   "metadata": {},
   "outputs": [
    {
     "data": {
      "text/html": [
       "<div>\n",
       "<style scoped>\n",
       "    .dataframe tbody tr th:only-of-type {\n",
       "        vertical-align: middle;\n",
       "    }\n",
       "\n",
       "    .dataframe tbody tr th {\n",
       "        vertical-align: top;\n",
       "    }\n",
       "\n",
       "    .dataframe thead th {\n",
       "        text-align: right;\n",
       "    }\n",
       "</style>\n",
       "<table border=\"1\" class=\"dataframe\">\n",
       "  <thead>\n",
       "    <tr style=\"text-align: right;\">\n",
       "      <th></th>\n",
       "      <th>y_true</th>\n",
       "      <th>y_pred</th>\n",
       "      <th>y_pred_prob</th>\n",
       "    </tr>\n",
       "  </thead>\n",
       "  <tbody>\n",
       "    <tr>\n",
       "      <th>0</th>\n",
       "      <td>1</td>\n",
       "      <td>1</td>\n",
       "      <td>0.5</td>\n",
       "    </tr>\n",
       "    <tr>\n",
       "      <th>1</th>\n",
       "      <td>0</td>\n",
       "      <td>1</td>\n",
       "      <td>0.5</td>\n",
       "    </tr>\n",
       "    <tr>\n",
       "      <th>2</th>\n",
       "      <td>0</td>\n",
       "      <td>1</td>\n",
       "      <td>0.5</td>\n",
       "    </tr>\n",
       "    <tr>\n",
       "      <th>3</th>\n",
       "      <td>1</td>\n",
       "      <td>1</td>\n",
       "      <td>0.5</td>\n",
       "    </tr>\n",
       "    <tr>\n",
       "      <th>4</th>\n",
       "      <td>1</td>\n",
       "      <td>1</td>\n",
       "      <td>0.5</td>\n",
       "    </tr>\n",
       "  </tbody>\n",
       "</table>\n",
       "</div>"
      ],
      "text/plain": [
       "   y_true  y_pred  y_pred_prob\n",
       "0       1       1          0.5\n",
       "1       0       1          0.5\n",
       "2       0       1          0.5\n",
       "3       1       1          0.5\n",
       "4       1       1          0.5"
      ]
     },
     "execution_count": 9,
     "metadata": {},
     "output_type": "execute_result"
    }
   ],
   "source": [
    "# create baseline dataframe\n",
    "df_baseline = pd.DataFrame(y_test.values, columns=['y_true'])\n",
    "df_baseline['y_pred'] = 1\n",
    "df_baseline['y_pred_prob'] = 0.5\n",
    "\n",
    "df_baseline.head()"
   ]
  },
  {
   "cell_type": "markdown",
   "id": "516c637e",
   "metadata": {},
   "source": [
    "### Setting up Pipelines"
   ]
  },
  {
   "cell_type": "code",
   "execution_count": 10,
   "id": "09e2e25d",
   "metadata": {},
   "outputs": [],
   "source": [
    "# CountVectorizer + Random Forest      \n",
    "pipe_cvec_rf = Pipeline([ \n",
    "('cvec', CountVectorizer()),                                             \n",
    "('rf', RandomForestClassifier())])                                       "
   ]
  },
  {
   "cell_type": "code",
   "execution_count": 11,
   "id": "7beadbd5",
   "metadata": {},
   "outputs": [],
   "source": [
    "# CountVectorizer + Logistic Regression      \n",
    "pipe_cvec_logreg = Pipeline([('cvec', CountVectorizer()),                  \n",
    "('logreg', LogisticRegression())])"
   ]
  },
  {
   "cell_type": "markdown",
   "id": "a3523ddf",
   "metadata": {},
   "source": [
    "### Setting up the parameters for the GridSearchCV"
   ]
  },
  {
   "cell_type": "code",
   "execution_count": 12,
   "id": "1c90f76f",
   "metadata": {},
   "outputs": [],
   "source": [
    "params_cvec_rf = {\n",
    "    'cvec__max_features' : [2000, 2500],\n",
    "    'cvec__stop_words': ['english', None],\n",
    "    'cvec__ngram_range': [(1,1), (1,2)],\n",
    "    'cvec__max_df': [.8, .9],\n",
    "    'cvec__min_df': [2, 3],\n",
    "    'rf__max_depth' : [5, 6],\n",
    "    'rf__n_estimators': [150, 200, 250],\n",
    "    'rf__min_samples_split': [1,2,3]\n",
    "}"
   ]
  },
  {
   "cell_type": "code",
   "execution_count": 13,
   "id": "e48a202b",
   "metadata": {},
   "outputs": [],
   "source": [
    "params_cvec_logreg = {\n",
    "    'cvec__max_features' : [2000, 2500],\n",
    "    'cvec__stop_words': ['english', None],\n",
    "    'cvec__ngram_range': [(1,1), (1,2)],\n",
    "    'cvec__max_df': [0.8, 0.9],\n",
    "    'cvec__min_df': [2, 3],\n",
    "    'logreg__penalty': ['l1', 'l2'],\n",
    "    'logreg__C': [0.01, 0.1, 1],\n",
    "}"
   ]
  },
  {
   "cell_type": "markdown",
   "id": "2a411fc4",
   "metadata": {},
   "source": [
    "### Setting up a dictionary to store the score"
   ]
  },
  {
   "cell_type": "code",
   "execution_count": 14,
   "id": "bf048b43",
   "metadata": {},
   "outputs": [],
   "source": [
    "results = {}"
   ]
  },
  {
   "cell_type": "markdown",
   "id": "4455d190",
   "metadata": {},
   "source": [
    "### Setting up a function to run models"
   ]
  },
  {
   "cell_type": "code",
   "execution_count": 15,
   "id": "9e05956b",
   "metadata": {},
   "outputs": [],
   "source": [
    "# Define function to run Pipeline + GridSearchCV\n",
    "def run_model_rs(pipeline, parameters, cv=3, model_name=''):\n",
    "    \n",
    "    # Instantiate GridSearchCV\n",
    "    rs = GridSearchCV(pipeline,\n",
    "                      parameters,\n",
    "                      cv=cv,\n",
    "                      verbose=1,\n",
    "                      n_jobs=-1)\n",
    "       \n",
    "    # Fit GridSearch to training data\n",
    "    rs.fit(X_train, y_train)\n",
    "    \n",
    "    # Best mean score out of cross validation out of all models tested (cvec)\n",
    "    print(f'Best Score: {rs.best_score_}')\n",
    "    \n",
    "    # Best Paramenters\n",
    "    print(f'Best Parameters: {rs.best_params_}')\n",
    "    \n",
    "    # Save best model as gs_cvec_logreg_model\n",
    "    rs_model = rs.best_estimator_\n",
    "    \n",
    "    # Score model on training set.\n",
    "    print(f'Training Accuracy Score: {rs_model.score(X_train, y_train)}')\n",
    "    \n",
    "    # Score model on testing set.\n",
    "    print(f'Testing Accuracy Score: {rs_model.score(X_test, y_test)}')\n",
    "    \n",
    "    # Predictions\n",
    "    pred = rs_model.predict(X_test)\n",
    "    \n",
    "    # Confusion Matrix\n",
    "    cm_df = pd.DataFrame(confusion_matrix(y_test, pred),\n",
    "                         columns=['pred_war', 'pred_politic'],\n",
    "                         index=['actual_war', 'actual_politic'])\n",
    "    print('Confusion Matrix:')\n",
    "    print(cm_df)\n",
    "    print(' ')\n",
    "    \n",
    "    tn, fp, fn, tp = confusion_matrix(y_test, pred).ravel()\n",
    "    \n",
    "    # Print different metrics\n",
    "    accuracy = (tp + tn) / (tp + tn + fp + fn)\n",
    "    print(f'Accuracy: {accuracy}')\n",
    "    \n",
    "    misclassification = 1 - accuracy\n",
    "    print(f'Misclassification: {misclassification}') \n",
    "    \n",
    "    sensitivity = tp / (tp + fn)\n",
    "    print(f'Recall: {sensitivity}')\n",
    "    \n",
    "    specificity = tn / (tn + fp)\n",
    "    print(f'Specificity: {specificity}')\n",
    "    \n",
    "    precision = tp / (tp + fp)\n",
    "    print(f'Precision: {precision}')\n",
    "    \n",
    "    f1 = round(f1_score(y_test, rs_model.predict(X_test)),5)\n",
    "    print(f'f1: {f1}')\n",
    "    \n",
    "    recall = round(recall_score(y_test, rs_model.predict(X_test)),5)\n",
    "    print(f'recall: {recall}')\n",
    "    \n",
    "    roc_auc = round(roc_auc_score(y_test, rs_model.predict_proba(X_test)[:,1]),5)\n",
    "    print(f'ROC_AUC: {roc_auc}')\n",
    "    \n",
    "    # 'Append' accuracy scores to 'results' dictionary\n",
    "    results[model_name] = [rs_model.score(X_train, y_train), rs_model.score(X_test, y_test), accuracy,\n",
    "                           misclassification, sensitivity, specificity, precision, f1, recall, roc_auc]"
   ]
  },
  {
   "cell_type": "markdown",
   "id": "15431223",
   "metadata": {},
   "source": [
    "### Let's run Random Forest first"
   ]
  },
  {
   "cell_type": "code",
   "execution_count": 16,
   "id": "b3212fb4",
   "metadata": {
    "scrolled": true
   },
   "outputs": [
    {
     "name": "stdout",
     "output_type": "stream",
     "text": [
      "Fitting 3 folds for each of 576 candidates, totalling 1728 fits\n",
      "Best Score: 0.8824242424242424\n",
      "Best Parameters: {'cvec__max_df': 0.9, 'cvec__max_features': 2000, 'cvec__min_df': 2, 'cvec__ngram_range': (1, 2), 'cvec__stop_words': 'english', 'rf__max_depth': 5, 'rf__min_samples_split': 3, 'rf__n_estimators': 250}\n",
      "Training Accuracy Score: 0.8678787878787879\n",
      "Testing Accuracy Score: 0.8327272727272728\n",
      "Confusion Matrix:\n",
      "                pred_war  pred_politic\n",
      "actual_war           187            88\n",
      "actual_politic         4           271\n",
      " \n",
      "Accuracy: 0.8327272727272728\n",
      "Misclassification: 0.16727272727272724\n",
      "Recall: 0.9854545454545455\n",
      "Specificity: 0.68\n",
      "Precision: 0.754874651810585\n",
      "f1: 0.85489\n",
      "recall: 0.98545\n",
      "ROC_AUC: 0.94536\n"
     ]
    }
   ],
   "source": [
    "run_model_rs(pipe_cvec_rf, params_cvec_rf, cv=3, model_name='cvec_rf')"
   ]
  },
  {
   "cell_type": "markdown",
   "id": "53e5b9e4",
   "metadata": {},
   "source": [
    "### Logistic Regression"
   ]
  },
  {
   "cell_type": "code",
   "execution_count": 17,
   "id": "13cf8afe",
   "metadata": {},
   "outputs": [
    {
     "name": "stdout",
     "output_type": "stream",
     "text": [
      "Fitting 3 folds for each of 192 candidates, totalling 576 fits\n",
      "Best Score: 0.9321212121212121\n",
      "Best Parameters: {'cvec__max_df': 0.8, 'cvec__max_features': 2500, 'cvec__min_df': 2, 'cvec__ngram_range': (1, 2), 'cvec__stop_words': 'english', 'logreg__C': 1, 'logreg__penalty': 'l2'}\n",
      "Training Accuracy Score: 0.9854545454545455\n",
      "Testing Accuracy Score: 0.8981818181818182\n",
      "Confusion Matrix:\n",
      "                pred_war  pred_politic\n",
      "actual_war           237            38\n",
      "actual_politic        18           257\n",
      " \n",
      "Accuracy: 0.8981818181818182\n",
      "Misclassification: 0.10181818181818181\n",
      "Recall: 0.9345454545454546\n",
      "Specificity: 0.8618181818181818\n",
      "Precision: 0.8711864406779661\n",
      "f1: 0.90175\n",
      "recall: 0.93455\n",
      "ROC_AUC: 0.97114\n"
     ]
    }
   ],
   "source": [
    "run_model_rs(pipe_cvec_logreg, params_cvec_logreg, cv=3, model_name='cvec_logreg')"
   ]
  },
  {
   "cell_type": "code",
   "execution_count": 18,
   "id": "692ba8d6",
   "metadata": {},
   "outputs": [
    {
     "data": {
      "text/html": [
       "<div>\n",
       "<style scoped>\n",
       "    .dataframe tbody tr th:only-of-type {\n",
       "        vertical-align: middle;\n",
       "    }\n",
       "\n",
       "    .dataframe tbody tr th {\n",
       "        vertical-align: top;\n",
       "    }\n",
       "\n",
       "    .dataframe thead th {\n",
       "        text-align: right;\n",
       "    }\n",
       "</style>\n",
       "<table border=\"1\" class=\"dataframe\">\n",
       "  <thead>\n",
       "    <tr style=\"text-align: right;\">\n",
       "      <th></th>\n",
       "      <th>train</th>\n",
       "      <th>test</th>\n",
       "      <th>accuracy</th>\n",
       "      <th>misclassification</th>\n",
       "      <th>sensitivity</th>\n",
       "      <th>specificity</th>\n",
       "      <th>precision</th>\n",
       "      <th>f1</th>\n",
       "      <th>recall</th>\n",
       "      <th>roc_auc</th>\n",
       "    </tr>\n",
       "  </thead>\n",
       "  <tbody>\n",
       "    <tr>\n",
       "      <th>cvec_rf</th>\n",
       "      <td>0.867879</td>\n",
       "      <td>0.832727</td>\n",
       "      <td>0.832727</td>\n",
       "      <td>0.167273</td>\n",
       "      <td>0.985455</td>\n",
       "      <td>0.680000</td>\n",
       "      <td>0.754875</td>\n",
       "      <td>0.85489</td>\n",
       "      <td>0.98545</td>\n",
       "      <td>0.94536</td>\n",
       "    </tr>\n",
       "    <tr>\n",
       "      <th>cvec_logreg</th>\n",
       "      <td>0.985455</td>\n",
       "      <td>0.898182</td>\n",
       "      <td>0.898182</td>\n",
       "      <td>0.101818</td>\n",
       "      <td>0.934545</td>\n",
       "      <td>0.861818</td>\n",
       "      <td>0.871186</td>\n",
       "      <td>0.90175</td>\n",
       "      <td>0.93455</td>\n",
       "      <td>0.97114</td>\n",
       "    </tr>\n",
       "  </tbody>\n",
       "</table>\n",
       "</div>"
      ],
      "text/plain": [
       "                train      test  accuracy  misclassification  sensitivity  \\\n",
       "cvec_rf      0.867879  0.832727  0.832727           0.167273     0.985455   \n",
       "cvec_logreg  0.985455  0.898182  0.898182           0.101818     0.934545   \n",
       "\n",
       "             specificity  precision       f1   recall  roc_auc  \n",
       "cvec_rf         0.680000   0.754875  0.85489  0.98545  0.94536  \n",
       "cvec_logreg     0.861818   0.871186  0.90175  0.93455  0.97114  "
      ]
     },
     "execution_count": 18,
     "metadata": {},
     "output_type": "execute_result"
    }
   ],
   "source": [
    "# DataFrame with Results\n",
    "results_df = pd.DataFrame(results, index=['train', 'test', 'accuracy', 'misclassification',\n",
    "                             'sensitivity', 'specificity', 'precision', 'f1', 'recall', 'roc_auc']).T\n",
    "\n",
    "results_df"
   ]
  },
  {
   "cell_type": "code",
   "execution_count": 19,
   "id": "26707013",
   "metadata": {},
   "outputs": [
    {
     "data": {
      "image/png": "[encoded data removed]",
      "text/plain": [
       "<Figure size 1152x360 with 1 Axes>"
      ]
     },
     "metadata": {
      "needs_background": "light"
     },
     "output_type": "display_data"
    }
   ],
   "source": [
    "# Create plot fot 'Test Accuracy Scores'\n",
    "results_df['test'].plot(kind='bar', figsize=(16,5))\n",
    "\n",
    "plt.title('Test Accuracy Scores', size=20, pad=10)\n",
    "plt.axhline(0.5, color='r')\n",
    "plt.ylabel('Test Accuracy', size=14)\n",
    "plt.xticks(size=13, rotation=0)\n",
    "plt.yticks(size=20)\n",
    "plt.ylim(0, 1);"
   ]
  },
  {
   "cell_type": "code",
   "execution_count": 20,
   "id": "19e91fdf",
   "metadata": {},
   "outputs": [
    {
     "data": {
      "image/png": "[encoded data removed]",
      "text/plain": [
       "<Figure size 1152x360 with 1 Axes>"
      ]
     },
     "metadata": {
      "needs_background": "light"
     },
     "output_type": "display_data"
    }
   ],
   "source": [
    "# Create plot fot 'Test Accuracy Scores'\n",
    "results_df['f1'].plot(kind='bar', figsize=(16,5))\n",
    "\n",
    "plt.title('F1', size=20, pad=10)\n",
    "plt.axhline(0.5, color='r')\n",
    "plt.ylabel('Recall', size=14)\n",
    "plt.xticks(size=13, rotation=0)\n",
    "plt.yticks(size=20)\n",
    "plt.ylim(0, 1);"
   ]
  },
  {
   "cell_type": "markdown",
   "id": "8d1a5396",
   "metadata": {},
   "source": [
    "### Interpretation"
   ]
  },
  {
   "cell_type": "markdown",
   "id": "cd17d29d",
   "metadata": {},
   "source": [
    "A recap on confusion matrix, it is a table to describe the performance of a classification model on a set of test data for which the true values are know.\n",
    "\n",
    " - TP - Predicted positive and it's true. \n",
    " - TN - Predicted negative and it's true.\n",
    " - FP - Predicted positive and it's false (Type 1 Error).\n",
    " - FN - Predicted negative and it's false (Type 2 Error).\n",
    "\n",
    " - Accuracy - Overall, how often is the classifier correct?\n",
    " - Misclassification Rate - Overall, how often is it wrong?\n",
    " - Sensivitity/ Recall (TP Rate) - When it's actually yes, how often does it predict yes?\n",
    " - FP Rate - When it's actually no, how often does it predict yes?\n",
    " - Specificity (TN Rate) - When it's actually no, how often does it predict no?\n",
    " - Precision - When it predicts yes, how often is it correct?\n",
    " - F1 Score - Weighted average of the Recall and Precision \n",
    " - ROC/ AUC Curve - ROC curve is used to summarize performance over all possible thresholds. it is the trade off between the true positive rate and false positive rate for a predictive model using the different probability thresholds.\n",
    " - [ROC curves are appropriate when the observations are balanced between each class, whereas precision-recall curves are appropriate for imbalanced datasets] (https://machinelearningmastery.com/roc-curves-and-precision-recall-curves-for-classification-in-python/)"
   ]
  },
  {
   "cell_type": "markdown",
   "id": "d196bec5",
   "metadata": {},
   "source": [
    "### Chosen Model: cvec_logreg ( CountVectorizer + Logistic Regression)"
   ]
  },
  {
   "cell_type": "code",
   "execution_count": 21,
   "id": "3000e3cd",
   "metadata": {},
   "outputs": [],
   "source": [
    "# Set up the best pipeline\n",
    "pipe = Pipeline([('cvec', CountVectorizer()),                  \n",
    "('logreg', LogisticRegression())                                               \n",
    "])"
   ]
  },
  {
   "cell_type": "code",
   "execution_count": 22,
   "id": "7f60104a",
   "metadata": {},
   "outputs": [],
   "source": [
    "parameters= {'cvec__max_df': [0.8], \n",
    "             'cvec__max_features': [2500], \n",
    "             'cvec__min_df': [2], \n",
    "             'cvec__ngram_range': [(1, 2)], \n",
    "             'cvec__stop_words': ['english'], \n",
    "             'logreg__C': [1], \n",
    "             'logreg__penalty': ['l2'],\n",
    "}"
   ]
  },
  {
   "cell_type": "code",
   "execution_count": 23,
   "id": "b9d1d1e7",
   "metadata": {},
   "outputs": [],
   "source": [
    "gs = GridSearchCV(pipe,\n",
    "                  parameters,\n",
    "                  cv=3,\n",
    "                  verbose=1,\n",
    "                  n_jobs=-1)"
   ]
  },
  {
   "cell_type": "code",
   "execution_count": 24,
   "id": "17a5e942",
   "metadata": {},
   "outputs": [
    {
     "name": "stdout",
     "output_type": "stream",
     "text": [
      "Fitting 3 folds for each of 1 candidates, totalling 3 fits\n"
     ]
    },
    {
     "data": {
      "text/plain": [
       "GridSearchCV(cv=3,\n",
       "             estimator=Pipeline(steps=[('cvec', CountVectorizer()),\n",
       "                                       ('logreg', LogisticRegression())]),\n",
       "             n_jobs=-1,\n",
       "             param_grid={'cvec__max_df': [0.8], 'cvec__max_features': [2500],\n",
       "                         'cvec__min_df': [2], 'cvec__ngram_range': [(1, 2)],\n",
       "                         'cvec__stop_words': ['english'], 'logreg__C': [1],\n",
       "                         'logreg__penalty': ['l2']},\n",
       "             verbose=1)"
      ]
     },
     "execution_count": 24,
     "metadata": {},
     "output_type": "execute_result"
    }
   ],
   "source": [
    "# Fit RandomSearch to training data\n",
    "gs.fit(X_train, y_train)"
   ]
  },
  {
   "cell_type": "code",
   "execution_count": 25,
   "id": "70063c3e",
   "metadata": {},
   "outputs": [],
   "source": [
    "# Predictions\n",
    "pred = gs.predict(X_test)"
   ]
  },
  {
   "cell_type": "code",
   "execution_count": 26,
   "id": "f5177331",
   "metadata": {},
   "outputs": [
    {
     "name": "stdout",
     "output_type": "stream",
     "text": [
      "Confusion Matrix:\n"
     ]
    },
    {
     "data": {
      "text/html": [
       "<div>\n",
       "<style scoped>\n",
       "    .dataframe tbody tr th:only-of-type {\n",
       "        vertical-align: middle;\n",
       "    }\n",
       "\n",
       "    .dataframe tbody tr th {\n",
       "        vertical-align: top;\n",
       "    }\n",
       "\n",
       "    .dataframe thead th {\n",
       "        text-align: right;\n",
       "    }\n",
       "</style>\n",
       "<table border=\"1\" class=\"dataframe\">\n",
       "  <thead>\n",
       "    <tr style=\"text-align: right;\">\n",
       "      <th></th>\n",
       "      <th>pred_war</th>\n",
       "      <th>pred_politic</th>\n",
       "    </tr>\n",
       "  </thead>\n",
       "  <tbody>\n",
       "    <tr>\n",
       "      <th>actual_war</th>\n",
       "      <td>237</td>\n",
       "      <td>38</td>\n",
       "    </tr>\n",
       "    <tr>\n",
       "      <th>actual_politic</th>\n",
       "      <td>18</td>\n",
       "      <td>257</td>\n",
       "    </tr>\n",
       "  </tbody>\n",
       "</table>\n",
       "</div>"
      ],
      "text/plain": [
       "                pred_war  pred_politic\n",
       "actual_war           237            38\n",
       "actual_politic        18           257"
      ]
     },
     "execution_count": 26,
     "metadata": {},
     "output_type": "execute_result"
    }
   ],
   "source": [
    "cm_df = pd.DataFrame(confusion_matrix(y_test, pred),\n",
    "                     columns=['pred_war', 'pred_politic'],\n",
    "                     index=['actual_war', 'actual_politic'])\n",
    "print('Confusion Matrix:')\n",
    "cm_df"
   ]
  },
  {
   "cell_type": "markdown",
   "id": "3c70c491",
   "metadata": {},
   "source": [
    "### Most frequent words "
   ]
  },
  {
   "cell_type": "code",
   "execution_count": 27,
   "id": "f917a492",
   "metadata": {},
   "outputs": [],
   "source": [
    "CountVec = CountVectorizer(max_features=2000, stop_words='english', ngram_range=(1,2), max_df=0.95, min_df=2)\n",
    "\n",
    "Vec = CountVec.fit_transform(X_test)\n",
    "\n",
    "Vec_df = pd.DataFrame(Vec.toarray(), columns=CountVec.get_feature_names())\n",
    "\n",
    "Vec_df['preds'] = gs.predict(X_test)"
   ]
  },
  {
   "cell_type": "code",
   "execution_count": 28,
   "id": "8fc2ab99",
   "metadata": {},
   "outputs": [],
   "source": [
    "politic_words = pd.DataFrame(Vec_df.loc[Vec_df['preds']==0, :].sum().sort_values(ascending=False),\n",
    "             columns=['word_count_lemma'])[0:5]"
   ]
  },
  {
   "cell_type": "code",
   "execution_count": 29,
   "id": "a44a38fa",
   "metadata": {},
   "outputs": [],
   "source": [
    "war_words = pd.DataFrame(Vec_df.loc[Vec_df['preds']==1, :].sum().sort_values(ascending=False),\n",
    "             columns=['word_count_lemma'])[1:6]"
   ]
  },
  {
   "cell_type": "code",
   "execution_count": 31,
   "id": "749216f0",
   "metadata": {},
   "outputs": [
    {
     "data": {
      "text/plain": [
       "(0.0, 100.0)"
      ]
     },
     "execution_count": 31,
     "metadata": {},
     "output_type": "execute_result"
    },
    {
     "data": {
      "image/png": "[encoded data removed]",
      "text/plain": [
       "<Figure size 2160x720 with 2 Axes>"
      ]
     },
     "metadata": {
      "needs_background": "light"
     },
     "output_type": "display_data"
    }
   ],
   "source": [
    "fig, axes = plt.subplots(1, 2, figsize=(30, 10))\n",
    "\n",
    "axes[1].bar(politic_words.index, height=politic_words['word_count_lemma'], color='maroon')\n",
    "axes[1].set_title('Feature Importance - Politic', size=30, pad=10)\n",
    "axes[1].set_ylabel('Score', size=30)\n",
    "axes[1].tick_params(labelsize=20)\n",
    "axes[1].set_ylim(0,100);\n",
    "\n",
    "axes[0].bar(war_words.index, height=war_words['word_count_lemma'], color='maroon')\n",
    "axes[0].set_title('Feature Importance - War', size=30, pad=10)\n",
    "axes[0].set_ylabel('Score', size=30)\n",
    "axes[0].tick_params(labelsize=20)\n",
    "axes[0].set_ylim(0,100)"
   ]
  },
  {
   "cell_type": "code",
   "execution_count": null,
   "id": "1b835a36",
   "metadata": {},
   "outputs": [],
   "source": []
  }
 ],
 "metadata": {
  "kernelspec": {
   "display_name": "Python 3",
   "language": "python",
   "name": "python3"
  },
  "language_info": {
   "codemirror_mode": {
    "name": "ipython",
    "version": 3
   },
   "file_extension": ".py",
   "mimetype": "text/x-python",
   "name": "python",
   "nbconvert_exporter": "python",
   "pygments_lexer": "ipython3",
   "version": "3.8.8"
  }
 },
 "nbformat": 4,
 "nbformat_minor": 5
}
